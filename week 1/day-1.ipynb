{
 "cells": [
  {
   "cell_type": "markdown",
   "id": "af3f2adc",
   "metadata": {},
   "source": [
    "string :it combines letters,symbol,number"
   ]
  },
  {
   "cell_type": "code",
   "execution_count": 38,
   "id": "38346f5c",
   "metadata": {},
   "outputs": [
    {
     "name": "stdout",
     "output_type": "stream",
     "text": [
      "devi\n"
     ]
    }
   ],
   "source": [
    "name=\"devi\"\n",
    "print(name)"
   ]
  },
  {
   "cell_type": "markdown",
   "id": "e6eb3714",
   "metadata": {},
   "source": [
    "common string methods\n",
    ".lower()-it converts small letters\n",
    ".upper()-it converts capitl lettrs\n",
    ".strip()-it removes white strips\n",
    ".replace()-it replaces the letters\n",
    ".split()-it divides string into split"
   ]
  },
  {
   "cell_type": "code",
   "execution_count": 39,
   "id": "26cec720",
   "metadata": {},
   "outputs": [
    {
     "name": "stdout",
     "output_type": "stream",
     "text": [
      "hello\n",
      "HELLO\n",
      "hello\n",
      "Hello\n",
      "['he', '', 'o']\n",
      "['hello']\n",
      "['h', 'llo']\n"
     ]
    }
   ],
   "source": [
    "text=\"hello\" \n",
    "print(text.lower())\n",
    "print(text.upper())\n",
    "print(text.strip())\n",
    "print(text.replace(\"h\", \"H\"))\n",
    "print(text.split(\"l\"))\n",
    "print(text.split())\n",
    "print(text.split(\"e\"))\n"
   ]
  },
  {
   "cell_type": "markdown",
   "id": "719066e2",
   "metadata": {},
   "source": [
    "BOOLEAN;only two values\n",
    "true\n",
    "false\n",
    "used in logical operations and conditions"
   ]
  },
  {
   "cell_type": "markdown",
   "id": "543be5d2",
   "metadata": {},
   "source": [
    "==equal to"
   ]
  },
  {
   "cell_type": "code",
   "execution_count": 40,
   "id": "4a4c696d",
   "metadata": {},
   "outputs": [
    {
     "data": {
      "text/plain": [
       "True"
      ]
     },
     "execution_count": 40,
     "metadata": {},
     "output_type": "execute_result"
    }
   ],
   "source": [
    "5==5"
   ]
  },
  {
   "cell_type": "markdown",
   "id": "a166854e",
   "metadata": {},
   "source": [
    "!=not equal to"
   ]
  },
  {
   "cell_type": "code",
   "execution_count": 41,
   "id": "822f427b",
   "metadata": {},
   "outputs": [
    {
     "data": {
      "text/plain": [
       "True"
      ]
     },
     "execution_count": 41,
     "metadata": {},
     "output_type": "execute_result"
    }
   ],
   "source": [
    "5!=3"
   ]
  },
  {
   "cell_type": "markdown",
   "id": "8a755fd7",
   "metadata": {},
   "source": [
    "greater than"
   ]
  },
  {
   "cell_type": "code",
   "execution_count": 42,
   "id": "60f19f36",
   "metadata": {},
   "outputs": [
    {
     "data": {
      "text/plain": [
       "True"
      ]
     },
     "execution_count": 42,
     "metadata": {},
     "output_type": "execute_result"
    }
   ],
   "source": [
    "5>3"
   ]
  },
  {
   "cell_type": "markdown",
   "id": "1b482665",
   "metadata": {},
   "source": [
    "less than"
   ]
  },
  {
   "cell_type": "code",
   "execution_count": 43,
   "id": "950b1e36",
   "metadata": {},
   "outputs": [
    {
     "data": {
      "text/plain": [
       "False"
      ]
     },
     "execution_count": 43,
     "metadata": {},
     "output_type": "execute_result"
    }
   ],
   "source": [
    "5<3"
   ]
  },
  {
   "cell_type": "markdown",
   "id": "98e4cf1b",
   "metadata": {},
   "source": [
    ">greater than or equal to"
   ]
  },
  {
   "cell_type": "code",
   "execution_count": 44,
   "id": "68f50780",
   "metadata": {},
   "outputs": [
    {
     "data": {
      "text/plain": [
       "True"
      ]
     },
     "execution_count": 44,
     "metadata": {},
     "output_type": "execute_result"
    }
   ],
   "source": [
    "5>=5"
   ]
  },
  {
   "cell_type": "markdown",
   "id": "507ce279",
   "metadata": {},
   "source": [
    "less than or equal to"
   ]
  },
  {
   "cell_type": "code",
   "execution_count": 45,
   "id": "c060b40b",
   "metadata": {},
   "outputs": [
    {
     "data": {
      "text/plain": [
       "True"
      ]
     },
     "execution_count": 45,
     "metadata": {},
     "output_type": "execute_result"
    }
   ],
   "source": [
    "5<=5"
   ]
  },
  {
   "cell_type": "markdown",
   "id": "3ac7a0e3",
   "metadata": {},
   "source": [
    "LOGICAL OPERATORS\n",
    "1.and:both condition must be true\n",
    "2,or:atleast one condition is true\n",
    "3,not:reverse the condition"
   ]
  },
  {
   "cell_type": "code",
   "execution_count": 46,
   "id": "8514fe1c",
   "metadata": {},
   "outputs": [
    {
     "name": "stdout",
     "output_type": "stream",
     "text": [
      "True\n",
      "False\n",
      "True\n"
     ]
    }
   ],
   "source": [
    "x=16\n",
    "y=6\n",
    "\n",
    "print(x>6 and y<16)\n",
    "print(x>16 and y<6)\n",
    "print(x==16)"
   ]
  },
  {
   "cell_type": "markdown",
   "id": "276051d3",
   "metadata": {},
   "source": [
    "LIST\n",
    ".ordered\n",
    ".mutable(can change)\n",
    ".allows duplicates"
   ]
  },
  {
   "cell_type": "code",
   "execution_count": 47,
   "id": "41d97fd4",
   "metadata": {},
   "outputs": [
    {
     "name": "stdout",
     "output_type": "stream",
     "text": [
      "['apple', 'banana', 'cherry']\n"
     ]
    }
   ],
   "source": [
    "fruits=[\"apple\",\"banana\"]\n",
    "fruits.append(\"cherry\")\n",
    "print(fruits)"
   ]
  },
  {
   "cell_type": "markdown",
   "id": "004af68b",
   "metadata": {},
   "source": [
    "TUPPLE\n",
    ".0rdered\n",
    ".immutable(can't change)\n",
    ".allows duplicate"
   ]
  },
  {
   "cell_type": "code",
   "execution_count": 48,
   "id": "2b213961",
   "metadata": {},
   "outputs": [],
   "source": [
    "colors = (\"red\", \"green\", \"blue\",\"blue\")"
   ]
  },
  {
   "cell_type": "markdown",
   "id": "ce006a7e",
   "metadata": {},
   "source": [
    " SET\n",
    "Unordered\n",
    "\n",
    "No duplicates\n",
    "\n",
    "Mutable"
   ]
  },
  {
   "cell_type": "code",
   "execution_count": 36,
   "id": "c7fed2a7",
   "metadata": {},
   "outputs": [
    {
     "name": "stdout",
     "output_type": "stream",
     "text": [
      "{1, 2, 3}\n"
     ]
    }
   ],
   "source": [
    "nums={1,2,3,3}\n",
    "print(nums)"
   ]
  },
  {
   "cell_type": "markdown",
   "id": "9fe73d1d",
   "metadata": {},
   "source": [
    " CONDITIONAL STATEMENTS\n",
    "Used to perform different actions based on conditions."
   ]
  },
  {
   "cell_type": "markdown",
   "id": "855fae6e",
   "metadata": {},
   "source": [
    "1.F-the condition is true the program will execute\n"
   ]
  },
  {
   "cell_type": "code",
   "execution_count": 49,
   "id": "0d49a891",
   "metadata": {},
   "outputs": [
    {
     "name": "stdout",
     "output_type": "stream",
     "text": [
      "x is greater than 5\n"
     ]
    }
   ],
   "source": [
    "x = 7\n",
    "\n",
    "if x > 5:\n",
    "    print(\"x is greater than 5\")"
   ]
  },
  {
   "cell_type": "markdown",
   "id": "bf818a5b",
   "metadata": {},
   "source": [
    "2.IF-ELSE STATEMENT .if the condition is true ,one block runs .if false another block runs"
   ]
  },
  {
   "cell_type": "code",
   "execution_count": 50,
   "id": "95002e98",
   "metadata": {},
   "outputs": [
    {
     "name": "stdout",
     "output_type": "stream",
     "text": [
      "x is not greater than 5\n"
     ]
    }
   ],
   "source": [
    "x=3\n",
    "\n",
    "if x>5:\n",
    "\n",
    "  print(\"x is grreater than 5\")\n",
    "\n",
    "else:\n",
    "  print(\"x is not greater than 5\")\n",
    "  "
   ]
  },
  {
   "cell_type": "markdown",
   "id": "33c0efef",
   "metadata": {},
   "source": [
    "3.IF-ELIF-ELSE STATEMENT .used when you have multiple conditions"
   ]
  },
  {
   "cell_type": "code",
   "execution_count": 51,
   "id": "83c99d5c",
   "metadata": {},
   "outputs": [
    {
     "name": "stdout",
     "output_type": "stream",
     "text": [
      "grade B\n"
     ]
    }
   ],
   "source": [
    "marks=85\n",
    "if marks>=90:\n",
    "   print(\"grade A\")\n",
    "elif marks>80:\n",
    "   print(\"grade B\")\n",
    "elif marks>70:\n",
    "   print(\"grade C\")\n",
    "else:\n",
    "    print(\"fail\")"
   ]
  },
  {
   "cell_type": "markdown",
   "id": "68f1150d",
   "metadata": {},
   "source": [
    "MATCH CASES .match case is like switch case in other languages .it checks one value agains multiple options (cases) .its available from python 3.10\n",
    "\n",
    "syntax match variable case value1\n",
    "\n",
    "code block\n",
    "case value2\n",
    "\n",
    "code block\n",
    "case_:\n",
    "\n",
    "default case"
   ]
  },
  {
   "cell_type": "code",
   "execution_count": 52,
   "id": "5ed400e4",
   "metadata": {},
   "outputs": [
    {
     "name": "stdout",
     "output_type": "stream",
     "text": [
      "invalid in day\n"
     ]
    }
   ],
   "source": [
    "day=\"sunday\"\n",
    "match day:\n",
    "  case \"monday\":\n",
    "    print(\"today is monday\")\n",
    "  case\"tuesday\":\n",
    "    print(\"today is tuesday\")\n",
    "  case _:\n",
    "        print(\"invalid in day\")"
   ]
  }
 ],
 "metadata": {
  "kernelspec": {
   "display_name": "Python 3",
   "language": "python",
   "name": "python3"
  },
  "language_info": {
   "codemirror_mode": {
    "name": "ipython",
    "version": 3
   },
   "file_extension": ".py",
   "mimetype": "text/x-python",
   "name": "python",
   "nbconvert_exporter": "python",
   "pygments_lexer": "ipython3",
   "version": "3.13.5"
  }
 },
 "nbformat": 4,
 "nbformat_minor": 5
}
