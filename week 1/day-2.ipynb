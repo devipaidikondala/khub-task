{
 "cells": [
  {
   "cell_type": "markdown",
   "id": "3eaa5b05",
   "metadata": {},
   "source": [
    "LOOPS\n",
    "Loops are used to repeat a block of code multiple times. Instead of writing the same code again and again, we use loops to run it automatically based on a condition or over a sequence (like a list or string)."
   ]
  },
  {
   "cell_type": "markdown",
   "id": "5edbd970",
   "metadata": {},
   "source": [
    " Types of Loops in Python\n",
    "1. for Loop\n",
    "Used to iterate over a sequence like a list, tuple, string, or a range of numbers."
   ]
  },
  {
   "cell_type": "code",
   "execution_count": null,
   "id": "42f63ae8",
   "metadata": {},
   "outputs": [
    {
     "name": "stdout",
     "output_type": "stream",
     "text": [
      "Hello\n",
      "Hello\n",
      "Hello\n"
     ]
    }
   ],
   "source": [
    "for i in range(3):\n",
    "    print(\"Hello\")"
   ]
  },
  {
   "cell_type": "markdown",
   "id": "809900b3",
   "metadata": {},
   "source": [
    "2. while Loop\n",
    "Repeats a block of code as long as the condition is True."
   ]
  },
  {
   "cell_type": "code",
   "execution_count": 1,
   "id": "ea6b6754",
   "metadata": {},
   "outputs": [
    {
     "name": "stdout",
     "output_type": "stream",
     "text": [
      "1\n",
      "2\n",
      "3\n"
     ]
    }
   ],
   "source": [
    "i = 1\n",
    "while i <= 3:\n",
    "    print(i)\n",
    "    i += 1"
   ]
  },
  {
   "cell_type": "markdown",
   "id": "d39a5b19",
   "metadata": {},
   "source": [
    "Loop Control Statements\n",
    "Statement\tPurpose\n",
    "\t1.break : stops the loop immediately\n",
    "2.continue:\tSkips the current iteration\n",
    "3.pass:\tDoes nothing, used as a placeholde"
   ]
  },
  {
   "cell_type": "markdown",
   "id": "4e11c8cc",
   "metadata": {},
   "source": [
    "BREAK"
   ]
  },
  {
   "cell_type": "code",
   "execution_count": 2,
   "id": "a3928ee5",
   "metadata": {},
   "outputs": [
    {
     "name": "stdout",
     "output_type": "stream",
     "text": [
      "0\n",
      "1\n",
      "2\n"
     ]
    }
   ],
   "source": [
    "for i in range(5):\n",
    "    if i == 3:\n",
    "        break\n",
    "    print(i)"
   ]
  },
  {
   "cell_type": "markdown",
   "id": "114842dd",
   "metadata": {},
   "source": [
    "CONTINUE"
   ]
  },
  {
   "cell_type": "code",
   "execution_count": 3,
   "id": "fab5e63f",
   "metadata": {},
   "outputs": [
    {
     "name": "stdout",
     "output_type": "stream",
     "text": [
      "0\n",
      "1\n",
      "3\n",
      "4\n"
     ]
    }
   ],
   "source": [
    "for i in range(5):\n",
    "    if i == 2:\n",
    "        continue\n",
    "    print(i)"
   ]
  },
  {
   "cell_type": "markdown",
   "id": "81353bd2",
   "metadata": {},
   "source": [
    "PASS\n"
   ]
  },
  {
   "cell_type": "code",
   "execution_count": 4,
   "id": "e12fb512",
   "metadata": {},
   "outputs": [
    {
     "name": "stdout",
     "output_type": "stream",
     "text": [
      "0\n",
      "1\n",
      "2\n"
     ]
    }
   ],
   "source": [
    "for i in range(3):\n",
    "    if i == 1:\n",
    "        pass  \n",
    "    print(i)"
   ]
  },
  {
   "cell_type": "markdown",
   "id": "cb233a0a",
   "metadata": {},
   "source": [
    "Loop with else\n",
    "✅ Explanation:\n",
    "The else part of a loop runs only if the loop finishes normally (without break"
   ]
  },
  {
   "cell_type": "code",
   "execution_count": 1,
   "id": "afc37980",
   "metadata": {},
   "outputs": [
    {
     "name": "stdout",
     "output_type": "stream",
     "text": [
      "0\n",
      "1\n",
      "2\n",
      "Loop completed successfully!\n"
     ]
    }
   ],
   "source": [
    "for i in range(3):\n",
    "    print(i)\n",
    "else:\n",
    "    print(\"Loop completed successfully!\")"
   ]
  },
  {
   "cell_type": "markdown",
   "id": "66b082e8",
   "metadata": {},
   "source": [
    "Nested Loops\n",
    "✅ Explanation:\n",
    "A loop inside another loop is called a nested loop.\n",
    "\n",
    "Useful for patterns or working with 2D data (like rows & columns).\n",
    "\n"
   ]
  },
  {
   "cell_type": "code",
   "execution_count": 5,
   "id": "6765ed9f",
   "metadata": {},
   "outputs": [
    {
     "name": "stdout",
     "output_type": "stream",
     "text": [
      "* \n",
      "* * \n",
      "* * * \n"
     ]
    }
   ],
   "source": [
    "for i in range(1, 4):       \n",
    "    for j in range(1, i+1): \n",
    "        print(\"*\", end=\" \")\n",
    "    print()  "
   ]
  },
  {
   "cell_type": "markdown",
   "id": "6eb8d90a",
   "metadata": {},
   "source": [
    "FUNCTIONS"
   ]
  },
  {
   "cell_type": "markdown",
   "id": "6c7f05ed",
   "metadata": {},
   "source": [
    "A function is a block of code that does a specific task.\n",
    "We define a function once and then we can call (use) it whenever we need it."
   ]
  },
  {
   "cell_type": "markdown",
   "id": "e29c88ba",
   "metadata": {},
   "source": [
    " 1. Defining and Calling Functions\n",
    " Explanation:\n",
    "Use def to create (define) a function. Use the function name to call it."
   ]
  },
  {
   "cell_type": "code",
   "execution_count": 6,
   "id": "ba0d23aa",
   "metadata": {},
   "outputs": [
    {
     "name": "stdout",
     "output_type": "stream",
     "text": [
      "Hello, world!\n"
     ]
    }
   ],
   "source": [
    "def say_hello():\n",
    "    print(\"Hello, world!\")\n",
    "\n",
    "say_hello()"
   ]
  },
  {
   "cell_type": "markdown",
   "id": "7103bbee",
   "metadata": {},
   "source": [
    "With return:\n"
   ]
  },
  {
   "cell_type": "code",
   "execution_count": 7,
   "id": "b278c9af",
   "metadata": {},
   "outputs": [
    {
     "name": "stdout",
     "output_type": "stream",
     "text": [
      "8\n"
     ]
    }
   ],
   "source": [
    "def add(a, b):\n",
    "    return a + b\n",
    "\n",
    "result = add(3, 5)\n",
    "print(result)  "
   ]
  },
  {
   "cell_type": "markdown",
   "id": "2b13ab3f",
   "metadata": {},
   "source": [
    " 2. Function Arguments\n",
    ". Positional Arguments"
   ]
  },
  {
   "cell_type": "code",
   "execution_count": 8,
   "id": "33f50e42",
   "metadata": {},
   "outputs": [
    {
     "name": "stdout",
     "output_type": "stream",
     "text": [
      "Ravi is 25 years old.\n"
     ]
    }
   ],
   "source": [
    "def greet(name, age):\n",
    "    print(f\"{name} is {age} years old.\")\n",
    "\n",
    "greet(\"Ravi\", 25)"
   ]
  },
  {
   "cell_type": "markdown",
   "id": "f0f9c3b7",
   "metadata": {},
   "source": [
    " Default Arguments"
   ]
  },
  {
   "cell_type": "code",
   "execution_count": null,
   "id": "84b11f03",
   "metadata": {},
   "outputs": [
    {
     "name": "stdout",
     "output_type": "stream",
     "text": [
      "Hello, Guest\n",
      "Hello, Sita\n"
     ]
    }
   ],
   "source": [
    "def greet(name=\"Guest\"):\n",
    "    print(f\"Hello, {name}\")\n",
    "\n",
    "greet()\n",
    "greet(\"Sita\")"
   ]
  },
  {
   "cell_type": "markdown",
   "id": "a2844632",
   "metadata": {},
   "source": [
    "Keyword Arguments"
   ]
  },
  {
   "cell_type": "code",
   "execution_count": 9,
   "id": "0cbf7a9a",
   "metadata": {},
   "outputs": [
    {
     "name": "stdout",
     "output_type": "stream",
     "text": [
      "Anil got grade A\n"
     ]
    }
   ],
   "source": [
    "def student(name, grade):\n",
    "    print(f\"{name} got grade {grade}\")\n",
    "\n",
    "student(grade=\"A\", name=\"Anil\")"
   ]
  },
  {
   "cell_type": "markdown",
   "id": "653b6b82",
   "metadata": {},
   "source": [
    " *args → many values (tuple)\n",
    "python\n",
    "Copy code\n"
   ]
  },
  {
   "cell_type": "code",
   "execution_count": 10,
   "id": "800fe94f",
   "metadata": {},
   "outputs": [
    {
     "name": "stdout",
     "output_type": "stream",
     "text": [
      "1\n",
      "2\n",
      "3\n"
     ]
    }
   ],
   "source": [
    "def show_numbers(*args):\n",
    "    for num in args:\n",
    "        print(num)\n",
    "\n",
    "show_numbers(1, 2, 3)"
   ]
  },
  {
   "cell_type": "markdown",
   "id": "7df4b258",
   "metadata": {},
   "source": [
    " **kwargs → many key=value pairs (dictionary)"
   ]
  },
  {
   "cell_type": "code",
   "execution_count": null,
   "id": "b66dea84",
   "metadata": {},
   "outputs": [
    {
     "name": "stdout",
     "output_type": "stream",
     "text": [
      "name = Ravi\n",
      "age = 22\n"
     ]
    }
   ],
   "source": [
    "def show_info(**kwargs):\n",
    "    for key, value in kwargs.items():\n",
    "        print(f\"{key} = {value}\")\n",
    "\n",
    "show_info(name=\"Ravi\", age=22)"
   ]
  },
  {
   "cell_type": "markdown",
   "id": "3e18b835",
   "metadata": {},
   "source": [
    "3. Scope of Variables\n",
    ". Local vs Global"
   ]
  },
  {
   "cell_type": "code",
   "execution_count": null,
   "id": "6c6c76f9",
   "metadata": {},
   "outputs": [
    {
     "name": "stdout",
     "output_type": "stream",
     "text": [
      "Inside: 5\n",
      "Outside: 10\n"
     ]
    }
   ],
   "source": [
    "x = 10  \n",
    "\n",
    "def show():\n",
    "    x = 5  \n",
    "    print(\"Inside:\", x)\n",
    "\n",
    "show()\n",
    "print(\"Outside:\", x)"
   ]
  },
  {
   "cell_type": "markdown",
   "id": "6139cd67",
   "metadata": {},
   "source": [
    " 4. Lambda Functions\n",
    ". Simple lambda"
   ]
  },
  {
   "cell_type": "code",
   "execution_count": null,
   "id": "41f7c3d9",
   "metadata": {},
   "outputs": [
    {
     "name": "stdout",
     "output_type": "stream",
     "text": [
      "16\n"
     ]
    }
   ],
   "source": [
    "square = lambda x: x * x\n",
    "print(square(4))  "
   ]
  },
  {
   "cell_type": "markdown",
   "id": "d133d717",
   "metadata": {},
   "source": [
    " With map() and filter()"
   ]
  },
  {
   "cell_type": "code",
   "execution_count": null,
   "id": "ab1d39bc",
   "metadata": {},
   "outputs": [
    {
     "name": "stdout",
     "output_type": "stream",
     "text": [
      "[1, 4, 9, 16]\n",
      "[2, 4]\n"
     ]
    }
   ],
   "source": [
    "nums = [1, 2, 3, 4]\n",
    "\n",
    "squares = list(map(lambda x: x ** 2, nums))\n",
    "print(squares)  \n",
    "\n",
    "evens = list(filter(lambda x: x % 2 == 0, nums))\n",
    "print(evens)  "
   ]
  },
  {
   "cell_type": "markdown",
   "id": "4ea97890",
   "metadata": {},
   "source": [
    "hello\n"
   ]
  }
 ],
 "metadata": {
  "kernelspec": {
   "display_name": "Python 3",
   "language": "python",
   "name": "python3"
  },
  "language_info": {
   "codemirror_mode": {
    "name": "ipython",
    "version": 3
   },
   "file_extension": ".py",
   "mimetype": "text/x-python",
   "name": "python",
   "nbconvert_exporter": "python",
   "pygments_lexer": "ipython3",
   "version": "3.13.5"
  }
 },
 "nbformat": 4,
 "nbformat_minor": 5
}
